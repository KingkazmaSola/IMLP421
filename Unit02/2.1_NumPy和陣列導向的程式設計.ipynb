{
 "cells": [
  {
   "cell_type": "markdown",
   "metadata": {},
   "source": [
    "# NumPy 和陣列導向的程式設計\n",
    "\n",
    "`NumPy` 可以說是 Python 中最最標準的科學計算、數據分析套件。也因為 `NumPy` 的出現, 讓 Python 有了非常好的數據分析基礎, 一直到現在成為數據分析覇主。"
   ]
  },
  {
   "cell_type": "code",
   "execution_count": 11,
   "metadata": {},
   "outputs": [],
   "source": []
  },
  {
   "cell_type": "markdown",
   "metadata": {},
   "source": [
    "## 1. 陣列導向 101\n",
    "\n",
    "科學計算一個很核心的概念叫 \"array oriented\" 的寫法。Array 是 `numpy` 標準的資料結構, 和 list 很像, 但就差了那麼一點點。而這一點點讓我們在計算上是無比的方便。"
   ]
  },
  {
   "cell_type": "markdown",
   "metadata": {},
   "source": [
    "### 【暖身】 計算平均\n",
    "\n",
    "某位同學期中考各科成績如下, 請幫他計算成績。\n",
    "\n",
    "    grades = [77, 85, 56, 90, 66]\n",
    "    \n",
    "請計算平均。"
   ]
  },
  {
   "cell_type": "code",
   "execution_count": 2,
   "metadata": {},
   "outputs": [
    {
     "name": "stdout",
     "output_type": "stream",
     "text": [
      "average : 374.00\n"
     ]
    }
   ],
   "source": [
    "grades = [77, 85, 56, 90, 66]\n",
    "total_score = 0\n",
    "for grade in grades:\n",
    "    total_score+=grade\n",
    "print(f\"average : {total_score:.2f}\")"
   ]
  },
  {
   "cell_type": "markdown",
   "metadata": {},
   "source": [
    "### 【示範】陣列導向"
   ]
  },
  {
   "cell_type": "code",
   "execution_count": 8,
   "metadata": {},
   "outputs": [
    {
     "name": "stdout",
     "output_type": "stream",
     "text": [
      "74.80\n"
     ]
    }
   ],
   "source": [
    "import numpy\n",
    "\n",
    "grades = [77, 85, 56, 90, 66]\n",
    "arr = numpy.array(grades)\n",
    "mean_value = arr.mean()\n",
    "\n",
    "print(f\"{mean_value:.2f}\")"
   ]
  },
  {
   "cell_type": "markdown",
   "metadata": {},
   "source": [
    "最大值"
   ]
  },
  {
   "cell_type": "code",
   "execution_count": 10,
   "metadata": {},
   "outputs": [
    {
     "name": "stdout",
     "output_type": "stream",
     "text": [
      "90\n"
     ]
    }
   ],
   "source": [
    "import numpy\n",
    "\n",
    "grades = [77, 85, 56, 90, 66]\n",
    "arr = numpy.array(grades)\n",
    "max_value = arr.max()\n",
    "\n",
    "print(f\"{max_value}\")\n"
   ]
  },
  {
   "cell_type": "markdown",
   "metadata": {},
   "source": [
    "標準差"
   ]
  },
  {
   "cell_type": "code",
   "execution_count": 12,
   "metadata": {},
   "outputs": [
    {
     "name": "stdout",
     "output_type": "stream",
     "text": [
      "12.416119\n"
     ]
    }
   ],
   "source": [
    "import numpy\n",
    "\n",
    "grades = [77, 85, 56, 90, 66]\n",
    "arr = numpy.array(grades)\n",
    "\n",
    "std_dev = arr.std()\n",
    "print(f\"{std_dev:.6f}\")"
   ]
  },
  {
   "cell_type": "markdown",
   "metadata": {},
   "source": [
    "### 【暖身】 換算匯率\n",
    "\n",
    "假設今天我想查查號稱 Pentax 三公主的 31mm, 43mm, 77mm 三隻 limited 鏡頭在美國賣多少。於是我去 B&H 查了他們的價格分別是:\n",
    "\n",
    "    prices = [1096.95, 596.95, 896.95]\n",
    "    \n",
    "我又查了 Google 匯率 1 美金為 31.71 元。請把三支鏡頭的價格換算為台幣。"
   ]
  },
  {
   "cell_type": "code",
   "execution_count": 13,
   "metadata": {
    "collapsed": true
   },
   "outputs": [
    {
     "name": "stdout",
     "output_type": "stream",
     "text": [
      "[34784.2845, 18929.2845, 28442.2845]\n"
     ]
    }
   ],
   "source": [
    "import numpy\n",
    "\n",
    "prices = [1096.95, 596.95, 896.95]\n",
    "usd_to_twd = 31.71\n",
    "\n",
    "print([price*usd_to_twd for price in prices])"
   ]
  },
  {
   "cell_type": "markdown",
   "metadata": {},
   "source": [
    "先不管這實在有夠醜的數字, 我們要記得在科學計算中:\n",
    "\n",
    "### 儘可能不要使用迴圈\n",
    "\n",
    "這可能嗎?"
   ]
  },
  {
   "cell_type": "markdown",
   "metadata": {},
   "source": [
    "### 【示範】陣列換算匯率"
   ]
  },
  {
   "cell_type": "code",
   "execution_count": 14,
   "metadata": {},
   "outputs": [
    {
     "name": "stdout",
     "output_type": "stream",
     "text": [
      "[34784.2845 18929.2845 28442.2845]\n"
     ]
    }
   ],
   "source": [
    "import numpy as np\n",
    "\n",
    "prices = np.array([1096.95, 596.95, 896.95])\n",
    "usd_to_twd = 31.71\n",
    "\n",
    "print(usd_to_twd * prices)"
   ]
  },
  {
   "cell_type": "markdown",
   "metadata": {},
   "source": [
    "哦哦, 傑克, 這太神奇了!"
   ]
  },
  {
   "cell_type": "markdown",
   "metadata": {},
   "source": [
    "## 2. 其實 array 還有很多功能\n",
    "\n",
    "### 【練習】 成績計算\n",
    "\n",
    "一位老師成績這樣算的:\n",
    "\n",
    "* 平時成績 20%\n",
    "* 期中考   35%\n",
    "* 期未考   45%\n",
    "\n",
    "有位同學\n",
    "\n",
    "* 平時成績 85 分\n",
    "* 期中 70 分\n",
    "* 期末 80 分\n",
    "\n",
    "這位同學的學期成績是多少?"
   ]
  },
  {
   "cell_type": "code",
   "execution_count": 21,
   "metadata": {},
   "outputs": [],
   "source": [
    "grades = np.array([85,70,80])\n",
    "weights = np.array([0.2, 0.35, 0.45])"
   ]
  },
  {
   "cell_type": "markdown",
   "metadata": {},
   "source": [
    "這還不是我們要的最終成績啊!"
   ]
  },
  {
   "cell_type": "code",
   "execution_count": 20,
   "metadata": {},
   "outputs": [
    {
     "name": "stdout",
     "output_type": "stream",
     "text": [
      "[17.  24.5 36. ]\n"
     ]
    }
   ],
   "source": [
    "import numpy as np\n",
    "\n",
    "grades = np.array([85,70,80])\n",
    "weights = np.array([0.2, 0.35, 0.45])\n",
    "print(grades*weights)"
   ]
  },
  {
   "cell_type": "markdown",
   "metadata": {},
   "source": [
    "### 【提示】 array 還有很多函數可以用\n",
    "\n",
    "可以先打入\n",
    "\n",
    "    weighted_grades.\n",
    "    \n",
    "先不要按 `enter` 或 `shift-enter`, 而是按 `tab`...\n"
   ]
  },
  {
   "cell_type": "code",
   "execution_count": 19,
   "metadata": {},
   "outputs": [
    {
     "name": "stdout",
     "output_type": "stream",
     "text": [
      "77.5\n"
     ]
    }
   ],
   "source": [
    "import numpy as np\n",
    "\n",
    "grades = np.array([85,70,80])\n",
    "weights = np.array([0.2, 0.35, 0.45])\n",
    "geades = grades*weights\n",
    "semester_grade = geades.sum()\n",
    "\n",
    "print(semester_grade)"
   ]
  },
  {
   "cell_type": "markdown",
   "metadata": {},
   "source": [
    "### 【技巧】 一行完成成績計算"
   ]
  },
  {
   "cell_type": "code",
   "execution_count": 22,
   "metadata": {},
   "outputs": [
    {
     "name": "stdout",
     "output_type": "stream",
     "text": [
      "77.5\n"
     ]
    }
   ],
   "source": [
    "import numpy as np\n",
    "\n",
    "grades = np.array([85,70,80])\n",
    "weights = np.array([0.2, 0.35, 0.45])\n",
    "semester_grade = np.dot(grades, weights)\n",
    "print(semester_grade)\n"
   ]
  },
  {
   "cell_type": "markdown",
   "metadata": {},
   "source": [
    "## 3. 重要的 array 大變身!\n",
    "\n",
    "我們在數據分析, 常常要改 array 的型式。"
   ]
  },
  {
   "cell_type": "markdown",
   "metadata": {},
   "source": [
    "### 【練習】 一個 50 個數字的 array\n",
    "\n",
    "先想辦法、用亂數做出 50 個數字的 array, 叫做 A 好了。"
   ]
  },
  {
   "cell_type": "code",
   "execution_count": 23,
   "metadata": {},
   "outputs": [
    {
     "name": "stdout",
     "output_type": "stream",
     "text": [
      "[0.91156158 0.0137743  0.57829713 0.22145446 0.33093354 0.97003368\n",
      " 0.90240527 0.42343718 0.22999199 0.95233741 0.41686412 0.07356723\n",
      " 0.14109016 0.9098637  0.77609364 0.61348186 0.02732269 0.95580104\n",
      " 0.80734224 0.07260762 0.10742309 0.79232493 0.46991176 0.96300597\n",
      " 0.48334555 0.66784285 0.24580537 0.0042225  0.5507792  0.1677739\n",
      " 0.84050377 0.51540699 0.26043195 0.29386692 0.42813017 0.47469724\n",
      " 0.14678107 0.03203134 0.39407119 0.5711213  0.6534721  0.85736152\n",
      " 0.78347576 0.89994715 0.75236913 0.29120191 0.07942263 0.26372134\n",
      " 0.92697685 0.65754068]\n"
     ]
    }
   ],
   "source": [
    "import numpy\n",
    "\n",
    "print(numpy.random.rand(50))"
   ]
  },
  {
   "cell_type": "markdown",
   "metadata": {},
   "source": [
    "### 【技巧】 檢查 A 的 `shape`"
   ]
  },
  {
   "cell_type": "code",
   "execution_count": 25,
   "metadata": {},
   "outputs": [
    {
     "name": "stdout",
     "output_type": "stream",
     "text": [
      "(50,)\n"
     ]
    }
   ],
   "source": [
    "import numpy\n",
    "\n",
    "data = numpy.random.rand(50)\n",
    "print(data.shape)"
   ]
  },
  {
   "cell_type": "markdown",
   "metadata": {},
   "source": [
    "### 【技巧】 更改 A 的 shape"
   ]
  },
  {
   "cell_type": "code",
   "execution_count": 32,
   "metadata": {},
   "outputs": [
    {
     "name": "stdout",
     "output_type": "stream",
     "text": [
      "-------------------------------原始資料-------------------------------\n",
      "[[0.67185457 0.59906292 0.58996293 0.21778457 0.71195963 0.04166555\n",
      "  0.5043323  0.87776486 0.55428172 0.63269731]\n",
      " [0.07618285 0.95991079 0.91825843 0.51869493 0.83476006 0.56873863\n",
      "  0.15333736 0.21842616 0.17993206 0.75707593]\n",
      " [0.61636246 0.62366559 0.21764282 0.96322233 0.03066925 0.89921921\n",
      "  0.6820538  0.59834279 0.23172574 0.76133751]\n",
      " [0.13063824 0.13429082 0.76310635 0.32562295 0.87860426 0.40484859\n",
      "  0.48731097 0.45240555 0.42771932 0.50207943]\n",
      " [0.26281123 0.04751851 0.39785037 0.76712986 0.91618807 0.83969566\n",
      "  0.14801307 0.27214693 0.16760131 0.8471063 ]]\n",
      "-------------------------------取得資料-------------------------------\n",
      "[0.67185457 0.59906292 0.58996293 0.21778457 0.71195963 0.04166555\n",
      " 0.5043323  0.87776486 0.55428172 0.63269731]\n",
      "-------------------------------取得資料-------------------------------\n",
      "0.671854573758291\n"
     ]
    }
   ],
   "source": [
    "import numpy\n",
    "\n",
    "data = numpy.random.rand(50)\n",
    "data.shape = (5,10)\n",
    "\n",
    "print(\"-------------------------------原始資料-------------------------------\")\n",
    "print(data)\n",
    "print(\"-------------------------------取得資料-------------------------------\")\n",
    "print(data[0])\n",
    "print(\"-------------------------------取得資料-------------------------------\")\n",
    "print(data[0][0])"
   ]
  },
  {
   "cell_type": "markdown",
   "metadata": {},
   "source": [
    "### 【技巧】 也可以用 `reshape`\n",
    "\n",
    "但要注意, reshape 並沒有改原來的陣列。"
   ]
  },
  {
   "cell_type": "code",
   "execution_count": 33,
   "metadata": {},
   "outputs": [
    {
     "name": "stdout",
     "output_type": "stream",
     "text": [
      "-------------------------------原始資料-------------------------------\n",
      "[[0.76405352 0.26554514 0.12410994 0.27202851 0.65857415 0.81490844\n",
      "  0.9721812  0.88449259 0.99368531 0.63758257]\n",
      " [0.30964681 0.2627769  0.49553895 0.07250819 0.1178962  0.37675225\n",
      "  0.88822196 0.23860981 0.7113967  0.01528345]\n",
      " [0.88239244 0.70233833 0.10871891 0.52070717 0.66232929 0.14744009\n",
      "  0.21052033 0.06744604 0.15657566 0.85801712]\n",
      " [0.61126332 0.77532349 0.41089558 0.90463555 0.14839783 0.36726004\n",
      "  0.53425828 0.7175201  0.50433834 0.16167857]\n",
      " [0.40115867 0.1686458  0.836889   0.34802381 0.89591943 0.72909257\n",
      "  0.8670487  0.38259958 0.85130655 0.08662619]]\n",
      "-------------------------------修改資料-------------------------------\n",
      "[[0.76405352 0.26554514 0.12410994 0.27202851 0.65857415]\n",
      " [0.81490844 0.9721812  0.88449259 0.99368531 0.63758257]\n",
      " [0.30964681 0.2627769  0.49553895 0.07250819 0.1178962 ]\n",
      " [0.37675225 0.88822196 0.23860981 0.7113967  0.01528345]\n",
      " [0.88239244 0.70233833 0.10871891 0.52070717 0.66232929]\n",
      " [0.14744009 0.21052033 0.06744604 0.15657566 0.85801712]\n",
      " [0.61126332 0.77532349 0.41089558 0.90463555 0.14839783]\n",
      " [0.36726004 0.53425828 0.7175201  0.50433834 0.16167857]\n",
      " [0.40115867 0.1686458  0.836889   0.34802381 0.89591943]\n",
      " [0.72909257 0.8670487  0.38259958 0.85130655 0.08662619]]\n"
     ]
    }
   ],
   "source": [
    "import numpy\n",
    "\n",
    "data = numpy.random.rand(50)\n",
    "data.shape = (5,10)\n",
    "\n",
    "\n",
    "print(\"-------------------------------原始資料-------------------------------\")\n",
    "print(data)\n",
    "data.shape = (10,5)\n",
    "print(\"-------------------------------修改資料-------------------------------\")\n",
    "print(data)"
   ]
  },
  {
   "cell_type": "markdown",
   "metadata": {},
   "source": [
    "### 【技巧】 拉平 `ravel`\n",
    "\n",
    "雖然你想一想就知道可以用 `shape` 或 `reshape` 把多維陣列拉成一維。不過用 `ravel` 很潮。"
   ]
  },
  {
   "cell_type": "code",
   "execution_count": 40,
   "metadata": {},
   "outputs": [
    {
     "name": "stdout",
     "output_type": "stream",
     "text": [
      "-------------------------------原始資料-------------------------------\n",
      "[[0.24851193 0.53051168 0.52602908 0.38906896 0.05041675 0.04835101\n",
      "  0.64966678 0.80750705 0.37235213 0.85096251]\n",
      " [0.23711067 0.28743203 0.89289328 0.39283111 0.64685132 0.06353742\n",
      "  0.33220857 0.00144063 0.81113609 0.78736933]\n",
      " [0.88836627 0.42644216 0.88500324 0.83022617 0.14939999 0.44749303\n",
      "  0.23110033 0.69078323 0.72439028 0.64897841]\n",
      " [0.76017769 0.52005855 0.60564143 0.5891523  0.34512076 0.1802698\n",
      "  0.34762453 0.71177108 0.63323819 0.98144763]\n",
      " [0.34633314 0.18054214 0.48591469 0.1646383  0.67644165 0.64267588\n",
      "  0.62684107 0.39307767 0.76490059 0.26802383]]\n",
      "-------------------------------修改資料-------------------------------\n",
      "[[0.24851193 0.53051168 0.52602908 0.38906896 0.05041675]\n",
      " [0.04835101 0.64966678 0.80750705 0.37235213 0.85096251]\n",
      " [0.23711067 0.28743203 0.89289328 0.39283111 0.64685132]\n",
      " [0.06353742 0.33220857 0.00144063 0.81113609 0.78736933]\n",
      " [0.88836627 0.42644216 0.88500324 0.83022617 0.14939999]\n",
      " [0.44749303 0.23110033 0.69078323 0.72439028 0.64897841]\n",
      " [0.76017769 0.52005855 0.60564143 0.5891523  0.34512076]\n",
      " [0.1802698  0.34762453 0.71177108 0.63323819 0.98144763]\n",
      " [0.34633314 0.18054214 0.48591469 0.1646383  0.67644165]\n",
      " [0.64267588 0.62684107 0.39307767 0.76490059 0.26802383]]\n",
      "-------------------------------改回一維-------------------------------\n",
      "[0.24851193 0.53051168 0.52602908 0.38906896 0.05041675 0.04835101\n",
      " 0.64966678 0.80750705 0.37235213 0.85096251 0.23711067 0.28743203\n",
      " 0.89289328 0.39283111 0.64685132 0.06353742 0.33220857 0.00144063\n",
      " 0.81113609 0.78736933 0.88836627 0.42644216 0.88500324 0.83022617\n",
      " 0.14939999 0.44749303 0.23110033 0.69078323 0.72439028 0.64897841\n",
      " 0.76017769 0.52005855 0.60564143 0.5891523  0.34512076 0.1802698\n",
      " 0.34762453 0.71177108 0.63323819 0.98144763 0.34633314 0.18054214\n",
      " 0.48591469 0.1646383  0.67644165 0.64267588 0.62684107 0.39307767\n",
      " 0.76490059 0.26802383]\n"
     ]
    }
   ],
   "source": [
    "import numpy\n",
    "\n",
    "data = numpy.random.rand(50)\n",
    "data.shape = (5,10)\n",
    "\n",
    "\n",
    "print(\"-------------------------------原始資料-------------------------------\")\n",
    "print(data)\n",
    "data.shape = (10,5)\n",
    "print(\"-------------------------------修改資料-------------------------------\")\n",
    "print(data)\n",
    "data = data.ravel()\n",
    "print(\"-------------------------------改回一維-------------------------------\")\n",
    "print(data)"
   ]
  },
  {
   "cell_type": "markdown",
   "metadata": {},
   "source": [
    "## 4. 快速 array 生成法"
   ]
  },
  {
   "cell_type": "markdown",
   "metadata": {},
   "source": [
    "### 【技巧】 都是 0 的 array"
   ]
  },
  {
   "cell_type": "code",
   "execution_count": 45,
   "metadata": {},
   "outputs": [
    {
     "name": "stdout",
     "output_type": "stream",
     "text": [
      "[0. 0. 0. 0. 0. 0. 0. 0. 0. 0.]\n",
      "[[0. 0. 0. ... 0. 0. 0.]\n",
      " [0. 0. 0. ... 0. 0. 0.]\n",
      " [0. 0. 0. ... 0. 0. 0.]\n",
      " ...\n",
      " [0. 0. 0. ... 0. 0. 0.]\n",
      " [0. 0. 0. ... 0. 0. 0.]\n",
      " [0. 0. 0. ... 0. 0. 0.]]\n"
     ]
    }
   ],
   "source": [
    "import numpy\n",
    "\n",
    "data = numpy.zeros(10)\n",
    "print(data)\n",
    "\n",
    "data = numpy.zeros((512,512))\n",
    "print(data)\n"
   ]
  },
  {
   "cell_type": "markdown",
   "metadata": {},
   "source": [
    "### 【技巧】 都是 1 的 array"
   ]
  },
  {
   "cell_type": "code",
   "execution_count": 46,
   "metadata": {},
   "outputs": [
    {
     "name": "stdout",
     "output_type": "stream",
     "text": [
      "[1. 1. 1. 1. 1. 1. 1. 1. 1. 1.]\n"
     ]
    }
   ],
   "source": [
    "import numpy\n",
    "\n",
    "data = numpy.ones(10)\n",
    "print(data)"
   ]
  },
  {
   "cell_type": "markdown",
   "metadata": {},
   "source": [
    "### 【技巧】單位矩陣"
   ]
  },
  {
   "cell_type": "code",
   "execution_count": 49,
   "metadata": {},
   "outputs": [
    {
     "name": "stdout",
     "output_type": "stream",
     "text": [
      "[[1. 0. 0. 0. 0. 0. 0. 0. 0. 0.]\n",
      " [0. 1. 0. 0. 0. 0. 0. 0. 0. 0.]\n",
      " [0. 0. 1. 0. 0. 0. 0. 0. 0. 0.]\n",
      " [0. 0. 0. 1. 0. 0. 0. 0. 0. 0.]\n",
      " [0. 0. 0. 0. 1. 0. 0. 0. 0. 0.]\n",
      " [0. 0. 0. 0. 0. 1. 0. 0. 0. 0.]\n",
      " [0. 0. 0. 0. 0. 0. 1. 0. 0. 0.]\n",
      " [0. 0. 0. 0. 0. 0. 0. 1. 0. 0.]\n",
      " [0. 0. 0. 0. 0. 0. 0. 0. 1. 0.]\n",
      " [0. 0. 0. 0. 0. 0. 0. 0. 0. 1.]]\n"
     ]
    }
   ],
   "source": [
    "import numpy\n",
    "\n",
    "data = numpy.eye(10)\n",
    "print(data)\n"
   ]
  },
  {
   "cell_type": "markdown",
   "metadata": {},
   "source": [
    "### 【技巧】給定範圍均勻生出 n 個點"
   ]
  },
  {
   "cell_type": "code",
   "execution_count": 60,
   "metadata": {},
   "outputs": [
    {
     "name": "stdout",
     "output_type": "stream",
     "text": [
      "[ 0.          0.1010101   0.2020202   0.3030303   0.4040404   0.50505051\n",
      "  0.60606061  0.70707071  0.80808081  0.90909091  1.01010101  1.11111111\n",
      "  1.21212121  1.31313131  1.41414141  1.51515152  1.61616162  1.71717172\n",
      "  1.81818182  1.91919192  2.02020202  2.12121212  2.22222222  2.32323232\n",
      "  2.42424242  2.52525253  2.62626263  2.72727273  2.82828283  2.92929293\n",
      "  3.03030303  3.13131313  3.23232323  3.33333333  3.43434343  3.53535354\n",
      "  3.63636364  3.73737374  3.83838384  3.93939394  4.04040404  4.14141414\n",
      "  4.24242424  4.34343434  4.44444444  4.54545455  4.64646465  4.74747475\n",
      "  4.84848485  4.94949495  5.05050505  5.15151515  5.25252525  5.35353535\n",
      "  5.45454545  5.55555556  5.65656566  5.75757576  5.85858586  5.95959596\n",
      "  6.06060606  6.16161616  6.26262626  6.36363636  6.46464646  6.56565657\n",
      "  6.66666667  6.76767677  6.86868687  6.96969697  7.07070707  7.17171717\n",
      "  7.27272727  7.37373737  7.47474747  7.57575758  7.67676768  7.77777778\n",
      "  7.87878788  7.97979798  8.08080808  8.18181818  8.28282828  8.38383838\n",
      "  8.48484848  8.58585859  8.68686869  8.78787879  8.88888889  8.98989899\n",
      "  9.09090909  9.19191919  9.29292929  9.39393939  9.49494949  9.5959596\n",
      "  9.6969697   9.7979798   9.8989899  10.        ]\n"
     ]
    }
   ],
   "source": [
    "import numpy\n",
    "\n",
    "a = numpy.linspace(start=0, stop=10, num=100)\n",
    "print(a)"
   ]
  },
  {
   "cell_type": "markdown",
   "metadata": {},
   "source": [
    "### 【技巧】`range` 的 array 版\n",
    "\n",
    "就是 `arange`。"
   ]
  },
  {
   "cell_type": "code",
   "execution_count": 65,
   "metadata": {},
   "outputs": [
    {
     "name": "stdout",
     "output_type": "stream",
     "text": [
      "['0.00', '0.20', '0.40', '0.60', '0.80', '1.00', '1.20', '1.40', '1.60', '1.80', '2.00', '2.20', '2.40', '2.60', '2.80', '3.00', '3.20', '3.40', '3.60', '3.80', '4.00', '4.20', '4.40', '4.60', '4.80', '5.00', '5.20', '5.40', '5.60', '5.80', '6.00', '6.20', '6.40', '6.60', '6.80', '7.00', '7.20', '7.40', '7.60', '7.80', '8.00', '8.20', '8.40', '8.60', '8.80', '9.00', '9.20', '9.40', '9.60', '9.80']\n"
     ]
    }
   ],
   "source": [
    "import numpy\n",
    "\n",
    "datas = numpy.arange(start=0, stop=10, step=0.2)\n",
    "formatted_datas = [f\"{data:.2f}\" for data in datas]\n",
    "\n",
    "print(formatted_datas)"
   ]
  },
  {
   "cell_type": "markdown",
   "metadata": {},
   "source": [
    "## 5. 超重要 `axis` 觀念\n",
    "\n",
    "初學 `numpy` 很多人有點弄不清楚 `axis` 概念。其實掌握矩陣, 或很像矩陣的陣列都是「先列後行」就可以!\n",
    "\n",
    "我們先弄個 array 來練習。"
   ]
  },
  {
   "cell_type": "code",
   "execution_count": 71,
   "metadata": {},
   "outputs": [
    {
     "name": "stdout",
     "output_type": "stream",
     "text": [
      "[[0 1 2 3 4]\n",
      " [5 6 7 8 9]]\n"
     ]
    }
   ],
   "source": [
    "import numpy\n",
    "\n",
    "datas = numpy.arange(stop=10).reshape(2,5)\n",
    "\n",
    "print(datas)"
   ]
  },
  {
   "cell_type": "markdown",
   "metadata": {},
   "source": [
    "### 【重點】 一列一列算下來是 `axis=0`"
   ]
  },
  {
   "cell_type": "markdown",
   "metadata": {},
   "source": [
    "![axis=0](images/axis0.png)"
   ]
  },
  {
   "cell_type": "code",
   "execution_count": 72,
   "metadata": {},
   "outputs": [
    {
     "name": "stdout",
     "output_type": "stream",
     "text": [
      "[ 5  7  9 11 13]\n"
     ]
    }
   ],
   "source": [
    "import numpy\n",
    "\n",
    "datas = numpy.arange(stop=10).reshape(2,5)\n",
    "ans = datas.sum(axis=0)\n",
    "print(ans)"
   ]
  },
  {
   "cell_type": "markdown",
   "metadata": {},
   "source": [
    "### 【重點】 一行一行算過去是 `axis=1`\n",
    "\n",
    "![axis=1](images/axis1.png)"
   ]
  },
  {
   "cell_type": "code",
   "execution_count": 73,
   "metadata": {},
   "outputs": [
    {
     "name": "stdout",
     "output_type": "stream",
     "text": [
      "[10 35]\n"
     ]
    }
   ],
   "source": [
    "import numpy\n",
    "\n",
    "datas = numpy.arange(stop=10).reshape(2,5)\n",
    "ans = datas.sum(axis=1)\n",
    "print(ans)"
   ]
  },
  {
   "cell_type": "markdown",
   "metadata": {},
   "source": [
    "### 【提示】當然也有可能全部算"
   ]
  },
  {
   "cell_type": "code",
   "execution_count": 74,
   "metadata": {},
   "outputs": [
    {
     "name": "stdout",
     "output_type": "stream",
     "text": [
      "45\n"
     ]
    }
   ],
   "source": [
    "import numpy\n",
    "\n",
    "datas = numpy.arange(stop=10).reshape(2,5)\n",
    "ans = datas.sum()\n",
    "print(ans)"
   ]
  },
  {
   "cell_type": "markdown",
   "metadata": {},
   "source": [
    "## 6. array 過濾器\n",
    "\n",
    "篩出我們要的資料, 這樣的技巧非常重要!"
   ]
  },
  {
   "cell_type": "markdown",
   "metadata": {},
   "source": [
    "### 【例子】篩出大於 0 的數\n",
    "\n",
    "我們有個陣列, 想找出大於 0 的數。<br>\n",
    "L = np.array([3, -2, -1, 5, 7, -3])"
   ]
  },
  {
   "cell_type": "code",
   "execution_count": 76,
   "metadata": {},
   "outputs": [
    {
     "name": "stdout",
     "output_type": "stream",
     "text": [
      "[ 3 -2 -1  5  7 -3]\n"
     ]
    }
   ],
   "source": [
    "import numpy\n",
    "\n",
    "L = numpy.array([3, -2, -1, 5, 7, -3])\n",
    "print(L)"
   ]
  },
  {
   "cell_type": "markdown",
   "metadata": {},
   "source": [
    "我們可以很白痴的自己判斷...<br>\n",
    "c = np.array([True,False,False,True,True,False])"
   ]
  },
  {
   "cell_type": "code",
   "execution_count": 83,
   "metadata": {},
   "outputs": [
    {
     "name": "stdout",
     "output_type": "stream",
     "text": [
      "[ True False False  True  True False]\n"
     ]
    }
   ],
   "source": [
    "import numpy\n",
    "\n",
    "c = numpy.array([True,False,False,True,True,False])\n",
    "print(c)"
   ]
  },
  {
   "cell_type": "markdown",
   "metadata": {},
   "source": [
    "這是做啥呢? 我們可以瞬間..."
   ]
  },
  {
   "cell_type": "code",
   "execution_count": 77,
   "metadata": {},
   "outputs": [
    {
     "name": "stdout",
     "output_type": "stream",
     "text": [
      "[3 5 7]\n"
     ]
    }
   ],
   "source": [
    "import numpy\n",
    "\n",
    "L = numpy.array([3, -2, -1, 5, 7, -3])\n",
    "c = numpy.array([True,False,False,True,True,False])\n",
    "print(L[c])"
   ]
  },
  {
   "cell_type": "markdown",
   "metadata": {},
   "source": [
    "除了自己做很白痴, 這看來很厲害!"
   ]
  },
  {
   "cell_type": "markdown",
   "metadata": {},
   "source": [
    "事實上我們可以叫 `numpy` 做!"
   ]
  },
  {
   "cell_type": "code",
   "execution_count": 81,
   "metadata": {},
   "outputs": [
    {
     "data": {
      "text/plain": [
       "array([ True, False, False,  True,  True, False])"
      ]
     },
     "execution_count": 81,
     "metadata": {},
     "output_type": "execute_result"
    }
   ],
   "source": [
    "import numpy\n",
    "\n",
    "L = numpy.array([3, -2, -1, 5, 7, -3])\n",
    "L>0"
   ]
  },
  {
   "cell_type": "markdown",
   "metadata": {},
   "source": [
    "這有點強, 我們還可以一次到位!"
   ]
  },
  {
   "cell_type": "code",
   "execution_count": 80,
   "metadata": {
    "scrolled": true
   },
   "outputs": [
    {
     "data": {
      "text/plain": [
       "array([3, 5, 7])"
      ]
     },
     "execution_count": 80,
     "metadata": {},
     "output_type": "execute_result"
    }
   ],
   "source": [
    "import numpy\n",
    "\n",
    "L = numpy.array([3, -2, -1, 5, 7, -3])\n",
    "L[L>0]"
   ]
  },
  {
   "cell_type": "markdown",
   "metadata": {},
   "source": [
    "## 7. 次元切割刀\n",
    "\n",
    "`numpy` 中 array 的切割法和 list 很像。"
   ]
  },
  {
   "cell_type": "code",
   "execution_count": 84,
   "metadata": {},
   "outputs": [
    {
     "name": "stdout",
     "output_type": "stream",
     "text": [
      "[0 1 2 3 4 5 6 7 8 9]\n"
     ]
    }
   ],
   "source": [
    "import numpy\n",
    "data = numpy.arange(10)\n",
    "print(data)"
   ]
  },
  {
   "cell_type": "code",
   "execution_count": 88,
   "metadata": {},
   "outputs": [
    {
     "name": "stdout",
     "output_type": "stream",
     "text": [
      "[3 4 5 6]\n",
      "[2 3 4]\n"
     ]
    }
   ],
   "source": [
    "import numpy\n",
    "data = numpy.arange(10)\n",
    "print(data[3:7])\n",
    "print(data[2:5])"
   ]
  },
  {
   "cell_type": "markdown",
   "metadata": {},
   "source": [
    "### 【技巧】2維陣列切法\n",
    "\n",
    "記得先列後行!"
   ]
  },
  {
   "cell_type": "code",
   "execution_count": 93,
   "metadata": {},
   "outputs": [
    {
     "name": "stdout",
     "output_type": "stream",
     "text": [
      "[[0 1 2 3 4]\n",
      " [5 6 7 8 9]]\n"
     ]
    }
   ],
   "source": [
    "import numpy\n",
    "data = numpy.arange(10).reshape(2,5)\n",
    "print(data)"
   ]
  },
  {
   "cell_type": "markdown",
   "metadata": {},
   "source": [
    "要所有的row, 切出行 1-3 位置。"
   ]
  },
  {
   "cell_type": "code",
   "execution_count": 94,
   "metadata": {},
   "outputs": [
    {
     "name": "stdout",
     "output_type": "stream",
     "text": [
      "[[1 2]\n",
      " [6 7]]\n"
     ]
    }
   ],
   "source": [
    "import numpy\n",
    "data = numpy.arange(10).reshape(2,5)\n",
    "print(data[:,1:3])"
   ]
  },
  {
   "cell_type": "markdown",
   "metadata": {},
   "source": [
    "要所有的行col, 切出第 1 列row!"
   ]
  },
  {
   "cell_type": "code",
   "execution_count": 96,
   "metadata": {},
   "outputs": [
    {
     "name": "stdout",
     "output_type": "stream",
     "text": [
      "[5 6 7 8 9]\n"
     ]
    }
   ],
   "source": [
    "import numpy\n",
    "data = numpy.arange(10).reshape(2,5)\n",
    "print(data[1,:])"
   ]
  },
  {
   "cell_type": "markdown",
   "metadata": {},
   "source": [
    "## 8. `NumPy` 的 `zip` 和 `unzip`"
   ]
  },
  {
   "cell_type": "markdown",
   "metadata": {},
   "source": [
    "之前我們介紹 list 可以用 `zip` 和 `unzip` (其實還是 `zip`) 做到的資料格式變換, 在 array 中怎麼做呢?\n",
    "\n",
    "![zip and unzip](images/zip.png)"
   ]
  },
  {
   "cell_type": "markdown",
   "metadata": {},
   "source": [
    "### 【重點】array 的 `zip`\n",
    "\n",
    "![array zip](images/arrzip.png)"
   ]
  },
  {
   "cell_type": "code",
   "execution_count": null,
   "metadata": {},
   "outputs": [],
   "source": [
    "x = np.array([1,2,3,4])\n",
    "y = np.array([5,6,7,8])"
   ]
  },
  {
   "cell_type": "code",
   "execution_count": 98,
   "metadata": {},
   "outputs": [
    {
     "name": "stdout",
     "output_type": "stream",
     "text": [
      "[[1 5]\n",
      " [2 6]\n",
      " [3 7]\n",
      " [4 8]]\n"
     ]
    }
   ],
   "source": [
    "import numpy\n",
    "\n",
    "x = numpy.array([1,2,3,4])\n",
    "y = numpy.array([5,6,7,8])\n",
    "x = numpy.c_[x,y]\n",
    "print(x)"
   ]
  },
  {
   "cell_type": "code",
   "execution_count": 100,
   "metadata": {},
   "outputs": [
    {
     "name": "stdout",
     "output_type": "stream",
     "text": [
      "[1 2 3 4 5 6 7 8]\n"
     ]
    }
   ],
   "source": [
    "import numpy\n",
    "\n",
    "x = numpy.array([1,2,3,4])\n",
    "y = numpy.array([5,6,7,8])\n",
    "y = numpy.r_[x,y]\n",
    "print(y)"
   ]
  },
  {
   "cell_type": "markdown",
   "metadata": {},
   "source": [
    "### 【重點】array 的 `unzip`\n",
    "\n",
    "這裡其實只需要用到 array 的切割法...\n",
    "\n",
    "![array zip](images/arrunzip.png)"
   ]
  },
  {
   "cell_type": "code",
   "execution_count": 103,
   "metadata": {
    "collapsed": true
   },
   "outputs": [
    {
     "name": "stdout",
     "output_type": "stream",
     "text": [
      "[[1 5]\n",
      " [2 6]\n",
      " [3 7]\n",
      " [4 8]]\n",
      "[1 2 3 4]\n",
      "[5 6 7 8]\n"
     ]
    }
   ],
   "source": [
    "import numpy\n",
    "\n",
    "x = numpy.array([1,2,3,4])\n",
    "y = numpy.array([5,6,7,8])\n",
    "x = numpy.c_[x,y]\n",
    "print(x)\n",
    "a = x[:,0]\n",
    "print(a)\n",
    "b = x[:,1]\n",
    "print(b)\n"
   ]
  }
 ],
 "metadata": {
  "kernelspec": {
   "display_name": "Python 3",
   "language": "python",
   "name": "python3"
  },
  "language_info": {
   "codemirror_mode": {
    "name": "ipython",
    "version": 3
   },
   "file_extension": ".py",
   "mimetype": "text/x-python",
   "name": "python",
   "nbconvert_exporter": "python",
   "pygments_lexer": "ipython3",
   "version": "3.12.3"
  }
 },
 "nbformat": 4,
 "nbformat_minor": 2
}
